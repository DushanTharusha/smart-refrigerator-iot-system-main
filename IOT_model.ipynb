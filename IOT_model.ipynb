{
 "cells": [
  {
   "cell_type": "code",
   "execution_count": 1,
   "id": "0d7161d1",
   "metadata": {},
   "outputs": [],
   "source": [
    "import pandas as pd\n",
    "\n",
    "# Load the downloaded CSV file (or your local file)\n",
    "df = pd.read_csv(r\"C:\\Users\\Binuda Dewhan\\Downloads\\sensorlog_3.csv\")"
   ]
  },
  {
   "cell_type": "code",
   "execution_count": 2,
   "id": "811292f5",
   "metadata": {},
   "outputs": [],
   "source": [
    "# Full code for Step 1: Data Loading, Cleaning, Filtering (excluding April 22), and Labeling\n",
    "\n",
    "# Filter out rows with date = '2025-04-22'\n",
    "df = df[df['date'] != '2025-04-22']\n",
    "\n",
    "# Select relevant columns\n",
    "df_model = df[['temperature_dht11', 'humidity_dht11', 'gas1']].copy()\n",
    "\n",
    "# Remove any rows where gas1 is the dummy value (4095 means invalid/unused reading)\n",
    "df_model = df_model[df_model['gas1'] < 4000]"
   ]
  },
  {
   "cell_type": "code",
   "execution_count": 3,
   "id": "fda9ed64",
   "metadata": {},
   "outputs": [],
   "source": [
    "def classify_risk(row):\n",
    "    temp = row['temperature_dht11']\n",
    "    hum = row['humidity_dht11']\n",
    "    gas = row['gas1']\n",
    "    \n",
    "    # High Risk\n",
    "    if temp > 11 or gas > 400 or (temp > 8 and hum > 75):\n",
    "        return \"High\"\n",
    "    \n",
    "    # Warning\n",
    "    elif (temp > 9.5 and temp <= 11) or (gas > 300 and gas <= 400) or (hum > 70 and hum <= 75):\n",
    "        return \"Warning\"\n",
    "    \n",
    "    # Safe\n",
    "    elif temp >= 2 and temp <= 9.5 and hum >= 40 and hum <= 70 and gas <= 300:\n",
    "        return \"Safe\"\n",
    "    \n",
    "    # Unknown/Edge case\n",
    "    else:\n",
    "        return \"Warning\"\n"
   ]
  },
  {
   "cell_type": "code",
   "execution_count": 4,
   "id": "87e78d5a",
   "metadata": {},
   "outputs": [],
   "source": [
    "df_model[\"RiskLevel\"] = df_model.apply(classify_risk, axis=1)\n"
   ]
  },
  {
   "cell_type": "code",
   "execution_count": 5,
   "id": "a1cdfacd",
   "metadata": {},
   "outputs": [
    {
     "data": {
      "text/plain": [
       "RiskLevel\n",
       "Warning    4680\n",
       "Safe       3256\n",
       "High       1051\n",
       "Name: count, dtype: int64"
      ]
     },
     "execution_count": 5,
     "metadata": {},
     "output_type": "execute_result"
    }
   ],
   "source": [
    "df_model[\"RiskLevel\"].value_counts()\n"
   ]
  },
  {
   "cell_type": "code",
   "execution_count": 6,
   "id": "a991057f",
   "metadata": {},
   "outputs": [
    {
     "name": "stdout",
     "output_type": "stream",
     "text": [
      "{'High': 0, 'Safe': 1, 'Warning': 2}\n"
     ]
    }
   ],
   "source": [
    "from sklearn.preprocessing import LabelEncoder\n",
    "\n",
    "le = LabelEncoder()\n",
    "df_model[\"RiskEncoded\"] = le.fit_transform(df_model[\"RiskLevel\"])\n",
    "\n",
    "# Optional: Print what each label maps to\n",
    "print(dict(zip(le.classes_, le.transform(le.classes_))))\n"
   ]
  },
  {
   "cell_type": "code",
   "execution_count": 7,
   "id": "ad921ccb",
   "metadata": {},
   "outputs": [],
   "source": [
    "from sklearn.model_selection import train_test_split\n",
    "\n",
    "X = df_model[['temperature_dht11', 'humidity_dht11', 'gas1']]\n",
    "y = df_model['RiskEncoded']\n",
    "\n",
    "X_train, X_test, y_train, y_test = train_test_split(X, y, test_size=0.2, random_state=42)\n"
   ]
  },
  {
   "cell_type": "code",
   "execution_count": 8,
   "id": "f162d105",
   "metadata": {},
   "outputs": [
    {
     "name": "stdout",
     "output_type": "stream",
     "text": [
      "✅ Accuracy: 0.9994438264738599\n",
      "\n",
      "📊 Classification Report:\n",
      "               precision    recall  f1-score   support\n",
      "\n",
      "        High       1.00      1.00      1.00       210\n",
      "        Safe       1.00      1.00      1.00       635\n",
      "     Warning       1.00      1.00      1.00       953\n",
      "\n",
      "    accuracy                           1.00      1798\n",
      "   macro avg       1.00      1.00      1.00      1798\n",
      "weighted avg       1.00      1.00      1.00      1798\n",
      "\n",
      "\n",
      "🔍 Confusion Matrix:\n",
      " [[210   0   0]\n",
      " [  0 635   0]\n",
      " [  0   1 952]]\n"
     ]
    }
   ],
   "source": [
    "from sklearn.ensemble import RandomForestClassifier\n",
    "from sklearn.metrics import classification_report, confusion_matrix, accuracy_score\n",
    "\n",
    "# Step 1: Initialize the model\n",
    "model = RandomForestClassifier(n_estimators=100, random_state=42)\n",
    "\n",
    "# Step 2: Train the model\n",
    "model.fit(X_train, y_train)\n",
    "\n",
    "# Step 3: Predict on the test set\n",
    "y_pred = model.predict(X_test)\n",
    "\n",
    "# Step 4: Evaluate performance\n",
    "print(\"✅ Accuracy:\", accuracy_score(y_test, y_pred))\n",
    "print(\"\\n📊 Classification Report:\\n\", classification_report(y_test, y_pred, target_names=le.classes_))\n",
    "print(\"\\n🔍 Confusion Matrix:\\n\", confusion_matrix(y_test, y_pred))\n"
   ]
  },
  {
   "cell_type": "code",
   "execution_count": 9,
   "id": "0c8ecea2",
   "metadata": {},
   "outputs": [
    {
     "name": "stdout",
     "output_type": "stream",
     "text": [
      "✅ Model and label encoder saved.\n"
     ]
    }
   ],
   "source": [
    "import pickle\n",
    "\n",
    "# Save the trained model\n",
    "with open(\"food_risk_model.pkl\", \"wb\") as file:\n",
    "    pickle.dump(model, file)\n",
    "\n",
    "# Save the label encoder as well (to decode predictions later)\n",
    "with open(\"label_encoder.pkl\", \"wb\") as file:\n",
    "    pickle.dump(le, file)\n",
    "\n",
    "print(\"✅ Model and label encoder saved.\")\n"
   ]
  }
 ],
 "metadata": {
  "kernelspec": {
   "display_name": "The_last",
   "language": "python",
   "name": "python3"
  },
  "language_info": {
   "codemirror_mode": {
    "name": "ipython",
    "version": 3
   },
   "file_extension": ".py",
   "mimetype": "text/x-python",
   "name": "python",
   "nbconvert_exporter": "python",
   "pygments_lexer": "ipython3",
   "version": "3.10.15"
  }
 },
 "nbformat": 4,
 "nbformat_minor": 5
}
